{
  "nbformat": 4,
  "nbformat_minor": 0,
  "metadata": {
    "colab": {
      "provenance": []
    },
    "kernelspec": {
      "name": "python3",
      "display_name": "Python 3"
    },
    "language_info": {
      "name": "python"
    }
  },
  "cells": [
    {
      "cell_type": "markdown",
      "source": [
        "## Import Modul untuk test case"
      ],
      "metadata": {
        "id": "xAZvUxNit46C"
      }
    },
    {
      "cell_type": "code",
      "source": [
        "import modul as m"
      ],
      "metadata": {
        "id": "hWyxzDe0rfUl"
      },
      "execution_count": 10,
      "outputs": []
    },
    {
      "cell_type": "code",
      "source": [
        "trnsct_123 = m.Transaction()"
      ],
      "metadata": {
        "id": "SK-N3CPOrzE2"
      },
      "execution_count": 11,
      "outputs": []
    },
    {
      "cell_type": "markdown",
      "source": [
        "## Test Case 1 -- add_item"
      ],
      "metadata": {
        "id": "PYG-aB_4uES0"
      }
    },
    {
      "cell_type": "code",
      "source": [
        "trnsct_123.add_item('Ayam Goreng', 2, 20000)\n",
        "trnsct_123.add_item('Pasta Gigi', 3, 15000)\n",
        "\n",
        "print('')\n",
        "print('')\n",
        "\n",
        "trnsct_123.show_order()"
      ],
      "metadata": {
        "colab": {
          "base_uri": "https://localhost:8080/"
        },
        "id": "baedRSkQshLb",
        "outputId": "ef74fd9a-df1a-426d-ead1-b25500973000"
      },
      "execution_count": 12,
      "outputs": [
        {
          "output_type": "stream",
          "name": "stdout",
          "text": [
            "Item yang dibeli adalah Ayam Goreng dengan jumlah 2 dan harga per item 20000. Total adalah 40000\n",
            "Item yang dibeli adalah Pasta Gigi dengan jumlah 3 dan harga per item 15000. Total adalah 45000\n",
            "\n",
            "\n",
            "---  -----------  -----------  ----------  -----------\n",
            "No.  Nama Item    Jumlah Item  Harga/Item  Total Harga\n",
            "1    Ayam Goreng  2            20000       40000\n",
            "2    Pasta Gigi   3            15000       45000\n",
            "---  -----------  -----------  ----------  -----------\n"
          ]
        }
      ]
    },
    {
      "cell_type": "markdown",
      "source": [
        "## Test Case 2 -- delete_item"
      ],
      "metadata": {
        "id": "7AOUMH-6uLEd"
      }
    },
    {
      "cell_type": "code",
      "source": [
        "trnsct_123.delete_item('Pasta Gigi')\n",
        "print('')\n",
        "\n",
        "trnsct_123.show_order()"
      ],
      "metadata": {
        "colab": {
          "base_uri": "https://localhost:8080/"
        },
        "id": "3K7FyZaKuRcB",
        "outputId": "eb54a879-0698-4f05-8c5e-8f95dc8ed96f"
      },
      "execution_count": 13,
      "outputs": [
        {
          "output_type": "stream",
          "name": "stdout",
          "text": [
            "Anda berhasil menghapus pesanan Pasta Gigi\n",
            "\n",
            "\n",
            "---  -----------  -----------  ----------  -----------\n",
            "No.  Nama Item    Jumlah Item  Harga/Item  Total Harga\n",
            "1    Ayam Goreng  2            20000       40000\n",
            "---  -----------  -----------  ----------  -----------\n"
          ]
        }
      ]
    },
    {
      "cell_type": "markdown",
      "source": [
        "##Test Case 3 -- reset_transaction"
      ],
      "metadata": {
        "id": "rMqJzOWPujS5"
      }
    },
    {
      "cell_type": "code",
      "source": [
        "trnsct_123.reset_transaction()\n",
        "\n",
        "trnsct_123.show_order()"
      ],
      "metadata": {
        "id": "rXajAaSiunAM",
        "colab": {
          "base_uri": "https://localhost:8080/"
        },
        "outputId": "5793a85f-e39c-45a1-a260-dc9e92da82a3"
      },
      "execution_count": 14,
      "outputs": [
        {
          "output_type": "stream",
          "name": "stdout",
          "text": [
            "Semua item berhasil di delete!\n",
            "---  ---------  -----------  ----------  -----------\n",
            "No.  Nama Item  Jumlah Item  Harga/Item  Total Harga\n",
            "---  ---------  -----------  ----------  -----------\n"
          ]
        }
      ]
    },
    {
      "cell_type": "markdown",
      "source": [
        "## Test Case 4 -- total_price"
      ],
      "metadata": {
        "id": "CqmmtBxzvF2w"
      }
    },
    {
      "cell_type": "code",
      "source": [
        "trnsct_123.add_item('Ayam Goreng', 2, 20000)\n",
        "trnsct_123.add_item('Pasta Gigi', 3, 15000)\n",
        "trnsct_123.add_item('Mainan Mobil', 1, 200000)\n",
        "trnsct_123.add_item('Mie Instan', 5, 3000)\n",
        "\n",
        "trnsct_123.total_price()"
      ],
      "metadata": {
        "colab": {
          "base_uri": "https://localhost:8080/"
        },
        "id": "QXIttC6DvWUZ",
        "outputId": "ba284e34-126a-4f11-a548-1f36f4da506c"
      },
      "execution_count": 15,
      "outputs": [
        {
          "output_type": "stream",
          "name": "stdout",
          "text": [
            "Item yang dibeli adalah Ayam Goreng dengan jumlah 2 dan harga per item 20000. Total adalah 40000\n",
            "Item yang dibeli adalah Pasta Gigi dengan jumlah 3 dan harga per item 15000. Total adalah 45000\n",
            "Item yang dibeli adalah Mainan Mobil dengan jumlah 1 dan harga per item 200000. Total adalah 200000\n",
            "Item yang dibeli adalah Mie Instan dengan jumlah 5 dan harga per item 3000. Total adalah 15000\n",
            "Anda mendapat diskon sebesar 5%,\n",
            " sehingga Anda hanya perlu membayar Rp.285000.00 \n"
          ]
        }
      ]
    }
  ]
}